{
 "cells": [
  {
   "cell_type": "markdown",
   "id": "9aee8567",
   "metadata": {},
   "source": [
    "# PyTorch Description\n",
    "本章节介绍 PyTorch 的功能、历史以及优缺点，并和其他开源框架进行横向对比。"
   ]
  },
  {
   "cell_type": "code",
   "execution_count": null,
   "id": "52958913",
   "metadata": {},
   "outputs": [],
   "source": []
  }
 ],
 "metadata": {
  "kernelspec": {
   "display_name": "pytorch221",
   "language": "python",
   "name": "pytorch221"
  },
  "language_info": {
   "codemirror_mode": {
    "name": "ipython",
    "version": 3
   },
   "file_extension": ".py",
   "mimetype": "text/x-python",
   "name": "python",
   "nbconvert_exporter": "python",
   "pygments_lexer": "ipython3",
   "version": "3.12.2"
  }
 },
 "nbformat": 4,
 "nbformat_minor": 5
}
