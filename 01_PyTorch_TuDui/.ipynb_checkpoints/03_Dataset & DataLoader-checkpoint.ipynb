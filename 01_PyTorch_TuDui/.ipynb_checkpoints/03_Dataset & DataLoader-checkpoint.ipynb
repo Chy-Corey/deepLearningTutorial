{
 "cells": [
  {
   "cell_type": "markdown",
   "id": "3f9b2efa-3263-46f0-91ca-9f6f6631e945",
   "metadata": {},
   "source": [
    "# Dataset & DataLoader"
   ]
  },
  {
   "cell_type": "markdown",
   "id": "91ddca77-64bc-4bfc-a26a-6e6870621538",
   "metadata": {},
   "source": [
    "## 1. 概念和用途\n",
    "用于处理数据样本的代码可能会变得混乱且难以维护;理想情况下，我们需要我们的数据集代码与我们的模型训练代码分离，以获得更好的可读性和模块化。\n",
    "\n",
    "PyTorch 提供了两个数据抽象类：`torch.utils.data.DataLoader` 和 `torch.utils.data.Dataset` ，允许使用预加载的数据集或者自己的数据。`Dataset` 用于存储样本及其相应的标签，而 `DataLoader` 则在 `Dataset` 外部封装了一个可迭代器，以方便访问样本。 [Dataset & DataLoader 官方解释](https://pytorch.org/tutorials/beginner/basics/data_tutorial.html)"
   ]
  },
  {
   "cell_type": "markdown",
   "id": "24b8aaa9-61bb-4762-bfaa-09dc03f9ebd1",
   "metadata": {},
   "source": [
    "官方解释可能比较抽象，可以结合 Python 的字典来理解。在索引字典中的元素时，其实是调用了 `__getitem__` 方法，如下所示："
   ]
  },
  {
   "cell_type": "code",
   "execution_count": 6,
   "id": "5de4057d-14d6-45a9-8340-10844878e0d3",
   "metadata": {},
   "outputs": [
    {
     "name": "stdout",
     "output_type": "stream",
     "text": [
      "Siyu\n",
      "23\n"
     ]
    }
   ],
   "source": [
    "dic = {\n",
    "    \"name\": \"Siyu\",\n",
    "    \"age\": \"23\"\n",
    "}\n",
    "print(dic[\"name\"])\n",
    "print(dic.__getitem__(\"age\"))"
   ]
  },
  {
   "cell_type": "markdown",
   "id": "d680114e-07cb-47fe-a985-e02f598e2789",
   "metadata": {},
   "source": [
    "那么在存储数据集时，可以采用类似字典的存储方式，然而神经网络中的数据集，在索引往往需要返回两个值：数据（data）和对应的标签（label/target），所以需要重写 `__getitem__` 方法，`Dataset` 抽象类就进行了重写。\n",
    "\n",
    "所以 `Dataset` 就是专用于实例化存放数据集对象的抽象类。"
   ]
  },
  {
   "cell_type": "markdown",
   "id": "f6b0d849-a473-4061-bc5f-9468c4770fd2",
   "metadata": {},
   "source": [
    "在训练时，只有 `Dataset` 数据集并不足够，因为需要进行循环，`Dataset` 并未实现迭代器，所以就需要使用 `DataLoader` 帮助数据集能够迭代。"
   ]
  },
  {
   "cell_type": "markdown",
   "id": "1e308c6c-3b72-40ac-8f9d-f7180ec51e50",
   "metadata": {},
   "source": [
    "## 2. Dataset\n",
    "PyTorch 为我们提供了一些已经封装好的数据集，不需要我们自己定义。CIFAR10 是 CV 训练中经常使用到的一个数据集，在 PyTorch 中 CIFAR10 是一个写好的 `Dataset`，我们使用时只需以下代码："
   ]
  },
  {
   "cell_type": "code",
   "execution_count": null,
   "id": "37592070-c3ee-4a20-bdaf-98d55a91e4ce",
   "metadata": {},
   "outputs": [],
   "source": [
    "data = torchvision.datasets.CIFAR10(\"./data/\", transform=torchvision.transforms.ToTensor(), train=True, download=True)"
   ]
  },
  {
   "cell_type": "markdown",
   "id": "a7881501-267f-4e20-84cb-17670c43c917",
   "metadata": {},
   "source": [
    "`datasets.CIFAR10` 就是一个 `Dataset` 子类，`data` 是这个类的一个实例。"
   ]
  },
  {
   "cell_type": "markdown",
   "id": "c1f2bb49-934e-40b0-aa1b-272c411aebb1",
   "metadata": {},
   "source": [
    "https://zhuanlan.zhihu.com/p/605755355\n",
    "\n",
    "https://zhuanlan.zhihu.com/p/105507334"
   ]
  },
  {
   "cell_type": "code",
   "execution_count": null,
   "id": "ea36afdd-9f8c-4c59-9007-9296716f2fe2",
   "metadata": {},
   "outputs": [],
   "source": []
  }
 ],
 "metadata": {
  "kernelspec": {
   "display_name": "pytorch221",
   "language": "python",
   "name": "pytorch221"
  },
  "language_info": {
   "codemirror_mode": {
    "name": "ipython",
    "version": 3
   },
   "file_extension": ".py",
   "mimetype": "text/x-python",
   "name": "python",
   "nbconvert_exporter": "python",
   "pygments_lexer": "ipython3",
   "version": "3.12.2"
  }
 },
 "nbformat": 4,
 "nbformat_minor": 5
}
