{
 "cells": [
  {
   "cell_type": "markdown",
   "id": "402cecfc-ddc0-4032-80c2-5ad01719535e",
   "metadata": {},
   "source": [
    "# 数据操作 & 数据预处理"
   ]
  },
  {
   "cell_type": "markdown",
   "id": "0516fe3f-51e2-4f52-b946-eea5c31e2132",
   "metadata": {},
   "source": [
    "## 一、数据操作"
   ]
  },
  {
   "cell_type": "markdown",
   "id": "090b4736-6275-44d4-8746-e87c12fdb3ce",
   "metadata": {
    "jp-MarkdownHeadingCollapsed": true
   },
   "source": [
    "### 1. 张量 tensor"
   ]
  },
  {
   "cell_type": "markdown",
   "id": "22bbd060-6a0b-4ba7-8e8f-f8aa9be5ff14",
   "metadata": {},
   "source": [
    "导入 `torch`"
   ]
  },
  {
   "cell_type": "code",
   "execution_count": 4,
   "id": "84ab045c-26fc-4698-a065-2c76d13f571e",
   "metadata": {},
   "outputs": [],
   "source": [
    "import torch"
   ]
  },
  {
   "cell_type": "markdown",
   "id": "0f4e070f-cbc9-4455-81b4-64c5248c20b5",
   "metadata": {},
   "source": [
    "创建张量 `tensor`，张量就是数组"
   ]
  },
  {
   "cell_type": "code",
   "execution_count": 9,
   "id": "383755fb-ac6f-4f16-8edc-32469abfb4dd",
   "metadata": {},
   "outputs": [
    {
     "data": {
      "text/plain": [
       "tensor([ 0,  1,  2,  3,  4,  5,  6,  7,  8,  9, 10, 11])"
      ]
     },
     "execution_count": 9,
     "metadata": {},
     "output_type": "execute_result"
    }
   ],
   "source": [
    "x = torch.arange(12)\n",
    "x"
   ]
  },
  {
   "cell_type": "markdown",
   "id": "93d5f444-a2a0-40d4-974b-b78a9fee76c7",
   "metadata": {},
   "source": [
    "访问张量的形状和其中元素的数量"
   ]
  },
  {
   "cell_type": "code",
   "execution_count": 10,
   "id": "cb70caf5-a7f8-4ed1-a119-24ad5d1cd738",
   "metadata": {},
   "outputs": [
    {
     "data": {
      "text/plain": [
       "torch.Size([12])"
      ]
     },
     "execution_count": 10,
     "metadata": {},
     "output_type": "execute_result"
    }
   ],
   "source": [
    "x.shape"
   ]
  },
  {
   "cell_type": "code",
   "execution_count": 12,
   "id": "293f6861-1e1f-4926-aa5e-37fcfb2a9943",
   "metadata": {},
   "outputs": [
    {
     "data": {
      "text/plain": [
       "12"
      ]
     },
     "execution_count": 12,
     "metadata": {},
     "output_type": "execute_result"
    }
   ],
   "source": [
    "x.numel()"
   ]
  },
  {
   "cell_type": "markdown",
   "id": "618e7fb2-29ca-463a-8bec-85b4db94903f",
   "metadata": {},
   "source": [
    "改变张量的形状"
   ]
  },
  {
   "cell_type": "code",
   "execution_count": 14,
   "id": "68643daa-adb3-40cb-af71-c86b5dff60a4",
   "metadata": {},
   "outputs": [
    {
     "data": {
      "text/plain": [
       "tensor([[ 0,  1,  2,  3],\n",
       "        [ 4,  5,  6,  7],\n",
       "        [ 8,  9, 10, 11]])"
      ]
     },
     "execution_count": 14,
     "metadata": {},
     "output_type": "execute_result"
    }
   ],
   "source": [
    "x = x.reshape(-1, 4)\n",
    "x"
   ]
  },
  {
   "cell_type": "markdown",
   "id": "b00114ac-67a4-4d3f-b091-7999f48a230f",
   "metadata": {},
   "source": [
    "创建张量的 api ："
   ]
  },
  {
   "cell_type": "code",
   "execution_count": 15,
   "id": "74aeae12-d8fd-4499-b542-6b865c15467a",
   "metadata": {},
   "outputs": [
    {
     "data": {
      "text/plain": [
       "tensor([[[0., 0., 0., 0.],\n",
       "         [0., 0., 0., 0.],\n",
       "         [0., 0., 0., 0.]],\n",
       "\n",
       "        [[0., 0., 0., 0.],\n",
       "         [0., 0., 0., 0.],\n",
       "         [0., 0., 0., 0.]]])"
      ]
     },
     "execution_count": 15,
     "metadata": {},
     "output_type": "execute_result"
    }
   ],
   "source": [
    "torch.zeros((2, 3, 4))"
   ]
  },
  {
   "cell_type": "code",
   "execution_count": 16,
   "id": "d08457ac-3f45-4596-9b19-35e9cf025929",
   "metadata": {},
   "outputs": [
    {
     "data": {
      "text/plain": [
       "tensor([[[1., 1., 1., 1., 1.],\n",
       "         [1., 1., 1., 1., 1.],\n",
       "         [1., 1., 1., 1., 1.],\n",
       "         [1., 1., 1., 1., 1.]],\n",
       "\n",
       "        [[1., 1., 1., 1., 1.],\n",
       "         [1., 1., 1., 1., 1.],\n",
       "         [1., 1., 1., 1., 1.],\n",
       "         [1., 1., 1., 1., 1.]],\n",
       "\n",
       "        [[1., 1., 1., 1., 1.],\n",
       "         [1., 1., 1., 1., 1.],\n",
       "         [1., 1., 1., 1., 1.],\n",
       "         [1., 1., 1., 1., 1.]]])"
      ]
     },
     "execution_count": 16,
     "metadata": {},
     "output_type": "execute_result"
    }
   ],
   "source": [
    "torch.ones((3, 4, 5))"
   ]
  },
  {
   "cell_type": "markdown",
   "id": "d543bb93-907b-4fae-92c0-29242a661bb5",
   "metadata": {},
   "source": [
    "也可以直接调用 `tensor` 的构造函数，创建指定的张量："
   ]
  },
  {
   "cell_type": "code",
   "execution_count": 42,
   "id": "b9f0fa4b-2ca7-4f7f-a759-6c337519c97f",
   "metadata": {},
   "outputs": [
    {
     "data": {
      "text/plain": [
       "tensor([[1, 2, 3],\n",
       "        [4, 5, 6],\n",
       "        [7, 8, 9]])"
      ]
     },
     "execution_count": 42,
     "metadata": {},
     "output_type": "execute_result"
    }
   ],
   "source": [
    "torch.tensor([[1, 2, 3], [4, 5, 6], [7, 8, 9]])"
   ]
  },
  {
   "cell_type": "markdown",
   "id": "95ae05ff-e574-435b-ba09-8c6a17b9e1a6",
   "metadata": {},
   "source": [
    "### 2. 张量的元素级运算"
   ]
  },
  {
   "cell_type": "markdown",
   "id": "9ca0663c-1779-4084-9513-b235df9b0839",
   "metadata": {},
   "source": [
    "标准算数运算符都是按元素运算："
   ]
  },
  {
   "cell_type": "code",
   "execution_count": 10,
   "id": "5fe9a300-ba25-4f2c-a284-8e972f39bbb7",
   "metadata": {},
   "outputs": [
    {
     "data": {
      "text/plain": [
       "(tensor([[2., 3., 4., 5.]]),\n",
       " tensor([[ 0., -1., -2., -3.]]),\n",
       " tensor([[1., 2., 3., 4.]]),\n",
       " tensor([[1.0000, 0.5000, 0.3333, 0.2500]]),\n",
       " tensor([[1., 1., 1., 1.]]))"
      ]
     },
     "execution_count": 10,
     "metadata": {},
     "output_type": "execute_result"
    }
   ],
   "source": [
    "x = torch.ones(1, 4)\n",
    "y = torch.arange(1,5, dtype=torch.float32)\n",
    "x + y, x - y, x * y, x / y, x ** y"
   ]
  },
  {
   "cell_type": "markdown",
   "id": "2e07a1c9-e3af-4450-a4cc-2bfbbe8c6a60",
   "metadata": {},
   "source": [
    "按元素指数运算："
   ]
  },
  {
   "cell_type": "code",
   "execution_count": 11,
   "id": "7692eff8-325a-4018-9707-0941390c3292",
   "metadata": {},
   "outputs": [
    {
     "data": {
      "text/plain": [
       "tensor([[2.7183, 2.7183, 2.7183, 2.7183]])"
      ]
     },
     "execution_count": 11,
     "metadata": {},
     "output_type": "execute_result"
    }
   ],
   "source": [
    "torch.exp(x)"
   ]
  },
  {
   "cell_type": "markdown",
   "id": "9e8333e9-6e4b-4427-a34c-f340265d9295",
   "metadata": {},
   "source": [
    "按元素判断逻辑："
   ]
  },
  {
   "cell_type": "code",
   "execution_count": 12,
   "id": "6f56e2b0-3a63-42d6-94bd-bb4f07a322f9",
   "metadata": {},
   "outputs": [
    {
     "data": {
      "text/plain": [
       "tensor([[ True, False, False, False]])"
      ]
     },
     "execution_count": 12,
     "metadata": {},
     "output_type": "execute_result"
    }
   ],
   "source": [
    "x == y"
   ]
  },
  {
   "cell_type": "markdown",
   "id": "6edaf22f-5c7f-4e9d-b4ea-f67f6ef02d9e",
   "metadata": {},
   "source": [
    "张量按元素求和："
   ]
  },
  {
   "cell_type": "code",
   "execution_count": 13,
   "id": "66986be3-18e2-46ce-bd1d-d9eb11c71113",
   "metadata": {},
   "outputs": [
    {
     "data": {
      "text/plain": [
       "tensor(4.)"
      ]
     },
     "execution_count": 13,
     "metadata": {},
     "output_type": "execute_result"
    }
   ],
   "source": [
    "x.sum()"
   ]
  },
  {
   "cell_type": "code",
   "execution_count": 22,
   "id": "1f504b91-58de-4a20-bd24-56492f305c43",
   "metadata": {},
   "outputs": [
    {
     "data": {
      "text/plain": [
       "(tensor([[[ 0.,  1.,  2.,  3.],\n",
       "          [ 4.,  5.,  6.,  7.],\n",
       "          [ 8.,  9., 10., 11.],\n",
       "          [12., 13., 14., 15.],\n",
       "          [16., 17., 18., 19.]],\n",
       " \n",
       "         [[20., 21., 22., 23.],\n",
       "          [24., 25., 26., 27.],\n",
       "          [28., 29., 30., 31.],\n",
       "          [32., 33., 34., 35.],\n",
       "          [36., 37., 38., 39.]]], dtype=torch.float64),\n",
       " tensor(780., dtype=torch.float64),\n",
       " tensor([[20., 22., 24., 26.],\n",
       "         [28., 30., 32., 34.],\n",
       "         [36., 38., 40., 42.],\n",
       "         [44., 46., 48., 50.],\n",
       "         [52., 54., 56., 58.]], dtype=torch.float64),\n",
       " tensor([[ 40.,  45.,  50.,  55.],\n",
       "         [140., 145., 150., 155.]], dtype=torch.float64),\n",
       " tensor([[10., 11., 12., 13.],\n",
       "         [14., 15., 16., 17.],\n",
       "         [18., 19., 20., 21.],\n",
       "         [22., 23., 24., 25.],\n",
       "         [26., 27., 28., 29.]], dtype=torch.float64))"
      ]
     },
     "execution_count": 22,
     "metadata": {},
     "output_type": "execute_result"
    }
   ],
   "source": [
    "A = torch.arange(20 * 2, dtype=float).reshape(2, 5, 4)\n",
    "A, A.sum(), A.sum(axis=0), A.sum(axis=1), A.mean(axis=0)  # 加入 axis 参数表示按维度求和属于有维度的运算"
   ]
  },
  {
   "cell_type": "markdown",
   "id": "fa5f82f2-2ca0-41fd-9bf1-dbf7c22db181",
   "metadata": {},
   "source": [
    "广播机制："
   ]
  },
  {
   "cell_type": "code",
   "execution_count": 24,
   "id": "49462bb5-c7c5-4f00-9fc4-54b8219b4f8f",
   "metadata": {},
   "outputs": [
    {
     "data": {
      "text/plain": [
       "(tensor([[0],\n",
       "         [1],\n",
       "         [2]]),\n",
       " tensor([[0, 1]]))"
      ]
     },
     "execution_count": 24,
     "metadata": {},
     "output_type": "execute_result"
    }
   ],
   "source": [
    "a = torch.arange(3).reshape(3, 1)\n",
    "b = torch.arange(2).reshape(1, 2)\n",
    "a, b"
   ]
  },
  {
   "cell_type": "code",
   "execution_count": 25,
   "id": "38906217-ad83-4d55-93c7-0cc9d83e9c0a",
   "metadata": {},
   "outputs": [
    {
     "data": {
      "text/plain": [
       "tensor([[0, 1],\n",
       "        [1, 2],\n",
       "        [2, 3]])"
      ]
     },
     "execution_count": 25,
     "metadata": {},
     "output_type": "execute_result"
    }
   ],
   "source": [
    "a + b"
   ]
  },
  {
   "cell_type": "markdown",
   "id": "d5991b74-0157-4e2c-8e1a-b46c27cfd83d",
   "metadata": {},
   "source": [
    "广播机制需要维度相同（都是2维或者3维等等），以下就不能成立："
   ]
  },
  {
   "cell_type": "code",
   "execution_count": 39,
   "id": "8bda307b-b6f7-40a1-9c0b-6011cf97b354",
   "metadata": {},
   "outputs": [
    {
     "name": "stdout",
     "output_type": "stream",
     "text": [
      "因为降维导致无法广播\n"
     ]
    },
    {
     "data": {
      "text/plain": [
       "(torch.Size([3, 2]),\n",
       " torch.Size([3]),\n",
       " torch.Size([3, 1]),\n",
       " tensor([[ 1,  2],\n",
       "         [ 7,  8],\n",
       "         [13, 14]]))"
      ]
     },
     "execution_count": 39,
     "metadata": {},
     "output_type": "execute_result"
    }
   ],
   "source": [
    "a = torch.arange(6).reshape(3, 2)\n",
    "b = a.sum(axis=1)\n",
    "c = a.sum(axis=1, keepdims=True)\n",
    "try:\n",
    "    a + b\n",
    "except:\n",
    "    print(\"因为降维导致无法广播\")\n",
    "a.shape, b.shape, c.shape, a + c"
   ]
  },
  {
   "cell_type": "markdown",
   "id": "8fe55af3-8781-4dbb-9f6f-9e1766b83c21",
   "metadata": {},
   "source": [
    "这种求和、求均值等等类似操作要注意是否会被降维。"
   ]
  },
  {
   "cell_type": "markdown",
   "id": "a8f35237-ad24-4b6f-b3a9-769170fe1976",
   "metadata": {},
   "source": [
    "累加求和（不会降维）："
   ]
  },
  {
   "cell_type": "code",
   "execution_count": 45,
   "id": "83d791bd-c6b1-415d-8332-9bc2c47e7efd",
   "metadata": {},
   "outputs": [
    {
     "data": {
      "text/plain": [
       "(tensor([[ 1,  3,  6],\n",
       "         [ 4,  9, 15]]),\n",
       " torch.Size([2, 3]),\n",
       " torch.Size([2, 3]))"
      ]
     },
     "execution_count": 45,
     "metadata": {},
     "output_type": "execute_result"
    }
   ],
   "source": [
    "X = torch.tensor([[1, 2, 3], [4, 5, 6]])\n",
    "X.cumsum(axis = 1), X.shape, X.cumsum(axis = 0).shape"
   ]
  },
  {
   "cell_type": "markdown",
   "id": "44bb4822-288b-4d10-9229-eaa722b9810c",
   "metadata": {},
   "source": [
    "### 3. 张量的向量级运算"
   ]
  },
  {
   "cell_type": "markdown",
   "id": "e1640494-2cdb-4764-b975-a1c4a23e0618",
   "metadata": {},
   "source": [
    "张量合并："
   ]
  },
  {
   "cell_type": "code",
   "execution_count": 52,
   "id": "fd9fa39d-6416-4735-8032-e98d45b250b5",
   "metadata": {},
   "outputs": [
    {
     "data": {
      "text/plain": [
       "(tensor([[ 0.0000,  1.0000,  2.0000,  3.0000],\n",
       "         [ 4.0000,  5.0000,  6.0000,  7.0000],\n",
       "         [ 8.0000,  9.0000, 10.0000, 11.0000],\n",
       "         [ 0.7961,  0.3387,  0.2781,  0.9865],\n",
       "         [ 0.5832,  0.6856,  0.0233,  0.3938],\n",
       "         [ 0.4723,  0.9297,  0.6180,  0.8659]], dtype=torch.float64),\n",
       " tensor([[ 0.0000,  1.0000,  2.0000,  3.0000,  0.7961,  0.3387,  0.2781,  0.9865],\n",
       "         [ 4.0000,  5.0000,  6.0000,  7.0000,  0.5832,  0.6856,  0.0233,  0.3938],\n",
       "         [ 8.0000,  9.0000, 10.0000, 11.0000,  0.4723,  0.9297,  0.6180,  0.8659]],\n",
       "        dtype=torch.float64))"
      ]
     },
     "execution_count": 52,
     "metadata": {},
     "output_type": "execute_result"
    }
   ],
   "source": [
    "X = torch.arange(12, dtype=float).reshape(3, 4)\n",
    "Y = torch.rand(3, 4, dtype=float)\n",
    "# 在第 0 维拼接，在第 1 维拼接\n",
    "torch.cat((X, Y), dim=0), torch.cat((X, Y), dim=1)"
   ]
  },
  {
   "cell_type": "markdown",
   "id": "3b11b5a8-8259-4aef-90e2-63d197db65b7",
   "metadata": {},
   "source": [
    "向量/矩阵点积："
   ]
  },
  {
   "cell_type": "code",
   "execution_count": 54,
   "id": "5f97acb7-17ee-43a0-b1e5-fafdcc06d4c0",
   "metadata": {},
   "outputs": [
    {
     "data": {
      "text/plain": [
       "tensor([[ 3.8545,  1.9136,  4.7635],\n",
       "        [13.4524,  8.6571, 16.3075],\n",
       "        [23.0503, 15.4007, 27.8514]], dtype=torch.float64)"
      ]
     },
     "execution_count": 54,
     "metadata": {},
     "output_type": "execute_result"
    }
   ],
   "source": [
    "torch.mm(X, Y.T)\n",
    "# 向量 * 向量：torch.dot()\n",
    "# 矩阵 * 向量：torch.mv()"
   ]
  },
  {
   "cell_type": "markdown",
   "id": "92441fda-a9a2-47d2-bb0a-1890d29e6fe8",
   "metadata": {},
   "source": [
    "范数："
   ]
  },
  {
   "cell_type": "code",
   "execution_count": 58,
   "id": "0bce7ead-7233-4388-b85f-8b7b1790a0f6",
   "metadata": {},
   "outputs": [
    {
     "data": {
      "text/plain": [
       "(tensor(3.7417, dtype=torch.float64),\n",
       " tensor(3.7417, dtype=torch.float64),\n",
       " tensor(6., dtype=torch.float64))"
      ]
     },
     "execution_count": 58,
     "metadata": {},
     "output_type": "execute_result"
    }
   ],
   "source": [
    "u = torch.arange(4, dtype=float)\n",
    "m = torch.arange(4, dtype=float).reshape(2, 2)\n",
    "torch.norm(u), torch.norm(m), torch.abs(u).sum()  # 2 范数， 2 范数， 1 范数"
   ]
  },
  {
   "cell_type": "markdown",
   "id": "66a7015b-4269-4ea8-a44f-51b0f12de58a",
   "metadata": {},
   "source": [
    "### 4. tensor 和 nupmy 转换"
   ]
  },
  {
   "cell_type": "code",
   "execution_count": 6,
   "id": "fbf2e2e6-8f05-4e8a-9efe-7bad5a47bc92",
   "metadata": {},
   "outputs": [
    {
     "data": {
      "text/plain": [
       "(array([[ 0,  1,  2,  3],\n",
       "        [ 4,  5,  6,  7],\n",
       "        [ 8,  9, 10, 11]], dtype=int64),\n",
       " tensor([[ 0,  1,  2,  3],\n",
       "         [ 4,  5,  6,  7],\n",
       "         [ 8,  9, 10, 11]]))"
      ]
     },
     "execution_count": 6,
     "metadata": {},
     "output_type": "execute_result"
    }
   ],
   "source": [
    "A = X.numpy()\n",
    "B = torch.tensor(A)\n",
    "A, B"
   ]
  },
  {
   "cell_type": "markdown",
   "id": "4eaf58d1-4074-4f83-a615-8777b52628dc",
   "metadata": {},
   "source": [
    "也可以把标量转换为 int 型："
   ]
  },
  {
   "cell_type": "code",
   "execution_count": 7,
   "id": "8eae771a-9796-441b-9d30-eefaffd4253f",
   "metadata": {},
   "outputs": [
    {
     "data": {
      "text/plain": [
       "(tensor([3.]), 3.0, 3.0, 3)"
      ]
     },
     "execution_count": 7,
     "metadata": {},
     "output_type": "execute_result"
    }
   ],
   "source": [
    "a = torch.tensor([3.])\n",
    "a, a.item(), float(a), int(a)"
   ]
  },
  {
   "cell_type": "markdown",
   "id": "5aab346a-f5c9-43b8-9405-d1d23b6a39f3",
   "metadata": {},
   "source": [
    "矩阵转置："
   ]
  },
  {
   "cell_type": "code",
   "execution_count": 8,
   "id": "e39ad0af-d567-44eb-9ae3-6923c6806246",
   "metadata": {},
   "outputs": [
    {
     "data": {
      "text/plain": [
       "tensor([[ 0,  4,  8],\n",
       "        [ 1,  5,  9],\n",
       "        [ 2,  6, 10],\n",
       "        [ 3,  7, 11]])"
      ]
     },
     "execution_count": 8,
     "metadata": {},
     "output_type": "execute_result"
    }
   ],
   "source": [
    "B.T"
   ]
  },
  {
   "cell_type": "code",
   "execution_count": null,
   "id": "f3b8d695-6543-4e95-b969-d5a04124318d",
   "metadata": {},
   "outputs": [],
   "source": []
  },
  {
   "cell_type": "markdown",
   "id": "22fb6e9f-7227-4efb-8df9-d54ee22275e5",
   "metadata": {
    "jp-MarkdownHeadingCollapsed": true
   },
   "source": [
    "## 二、数据预处理"
   ]
  },
  {
   "cell_type": "markdown",
   "id": "1b612dd6-3e08-4a09-af46-67ffdb14cb64",
   "metadata": {},
   "source": [
    "创建人工数据集，存储于 csv （逗号分隔符）文件"
   ]
  },
  {
   "cell_type": "code",
   "execution_count": 53,
   "id": "be607e8c-15e4-42cf-a5f2-b97484fab411",
   "metadata": {},
   "outputs": [],
   "source": [
    "import os\n",
    "\n",
    "os.makedirs(os.path.join('../', 'data'), exist_ok=True)\n",
    "data_file = os.path.join('../', 'data/', 'house_tiny.csv')\n",
    "with open(data_file, 'w') as f:\n",
    "    f.write('NumRooms, Alley, Prise\\n')\n",
    "    f.write('NA, Pave, 127500\\n')\n",
    "    f.write('2, NA, 106000\\n')\n",
    "    f.write('4, NA, 178100\\n')\n",
    "    f.write('NA, NA, 140000\\n')"
   ]
  },
  {
   "cell_type": "markdown",
   "id": "a6d45a12-e89a-4005-884f-615927d60a45",
   "metadata": {},
   "source": [
    "从创建的 csv 文件中加载原始数据集"
   ]
  },
  {
   "cell_type": "code",
   "execution_count": 55,
   "id": "5311ab14-eccb-4adb-9434-d5fe229d6bee",
   "metadata": {},
   "outputs": [
    {
     "data": {
      "text/html": [
       "<div>\n",
       "<style scoped>\n",
       "    .dataframe tbody tr th:only-of-type {\n",
       "        vertical-align: middle;\n",
       "    }\n",
       "\n",
       "    .dataframe tbody tr th {\n",
       "        vertical-align: top;\n",
       "    }\n",
       "\n",
       "    .dataframe thead th {\n",
       "        text-align: right;\n",
       "    }\n",
       "</style>\n",
       "<table border=\"1\" class=\"dataframe\">\n",
       "  <thead>\n",
       "    <tr style=\"text-align: right;\">\n",
       "      <th></th>\n",
       "      <th>NumRooms</th>\n",
       "      <th>Alley</th>\n",
       "      <th>Prise</th>\n",
       "    </tr>\n",
       "  </thead>\n",
       "  <tbody>\n",
       "    <tr>\n",
       "      <th>0</th>\n",
       "      <td>NaN</td>\n",
       "      <td>Pave</td>\n",
       "      <td>127500</td>\n",
       "    </tr>\n",
       "    <tr>\n",
       "      <th>1</th>\n",
       "      <td>2.0</td>\n",
       "      <td>NA</td>\n",
       "      <td>106000</td>\n",
       "    </tr>\n",
       "    <tr>\n",
       "      <th>2</th>\n",
       "      <td>4.0</td>\n",
       "      <td>NA</td>\n",
       "      <td>178100</td>\n",
       "    </tr>\n",
       "    <tr>\n",
       "      <th>3</th>\n",
       "      <td>NaN</td>\n",
       "      <td>NA</td>\n",
       "      <td>140000</td>\n",
       "    </tr>\n",
       "  </tbody>\n",
       "</table>\n",
       "</div>"
      ],
      "text/plain": [
       "   NumRooms  Alley   Prise\n",
       "0       NaN   Pave  127500\n",
       "1       2.0     NA  106000\n",
       "2       4.0     NA  178100\n",
       "3       NaN     NA  140000"
      ]
     },
     "execution_count": 55,
     "metadata": {},
     "output_type": "execute_result"
    }
   ],
   "source": [
    "import pandas as pd\n",
    "\n",
    "data = pd.read_csv(data_file)\n",
    "data"
   ]
  },
  {
   "cell_type": "markdown",
   "id": "9e5c8270-d284-4917-aad6-e63d9a27c4c4",
   "metadata": {},
   "source": [
    "对于数值类型的缺失数据，如果不想删除，可以使用插值进行填充："
   ]
  },
  {
   "cell_type": "code",
   "execution_count": 65,
   "id": "8ea6a380-d50f-4118-b1f2-dc757b23b3a8",
   "metadata": {},
   "outputs": [
    {
     "data": {
      "text/html": [
       "<div>\n",
       "<style scoped>\n",
       "    .dataframe tbody tr th:only-of-type {\n",
       "        vertical-align: middle;\n",
       "    }\n",
       "\n",
       "    .dataframe tbody tr th {\n",
       "        vertical-align: top;\n",
       "    }\n",
       "\n",
       "    .dataframe thead th {\n",
       "        text-align: right;\n",
       "    }\n",
       "</style>\n",
       "<table border=\"1\" class=\"dataframe\">\n",
       "  <thead>\n",
       "    <tr style=\"text-align: right;\">\n",
       "      <th></th>\n",
       "      <th>NumRooms</th>\n",
       "      <th>Alley</th>\n",
       "    </tr>\n",
       "  </thead>\n",
       "  <tbody>\n",
       "    <tr>\n",
       "      <th>0</th>\n",
       "      <td>3.0</td>\n",
       "      <td>Pave</td>\n",
       "    </tr>\n",
       "    <tr>\n",
       "      <th>1</th>\n",
       "      <td>2.0</td>\n",
       "      <td>NA</td>\n",
       "    </tr>\n",
       "    <tr>\n",
       "      <th>2</th>\n",
       "      <td>4.0</td>\n",
       "      <td>NA</td>\n",
       "    </tr>\n",
       "    <tr>\n",
       "      <th>3</th>\n",
       "      <td>3.0</td>\n",
       "      <td>NA</td>\n",
       "    </tr>\n",
       "  </tbody>\n",
       "</table>\n",
       "</div>"
      ],
      "text/plain": [
       "   NumRooms  Alley\n",
       "0       3.0   Pave\n",
       "1       2.0     NA\n",
       "2       4.0     NA\n",
       "3       3.0     NA"
      ]
     },
     "execution_count": 65,
     "metadata": {},
     "output_type": "execute_result"
    }
   ],
   "source": [
    "inputs, outputs = data.iloc[:, 0:2], data.iloc[:, 2]\n",
    "inputs = inputs.fillna(inputs.mean(numeric_only=True))\n",
    "inputs"
   ]
  },
  {
   "cell_type": "markdown",
   "id": "2c877ec0-3674-49fa-89fa-281ce69070f2",
   "metadata": {},
   "source": [
    "对于离散值或者类别，用独热编码："
   ]
  },
  {
   "cell_type": "code",
   "execution_count": 66,
   "id": "9b442dc9-094e-4409-9550-452f2634ae07",
   "metadata": {},
   "outputs": [
    {
     "data": {
      "text/html": [
       "<div>\n",
       "<style scoped>\n",
       "    .dataframe tbody tr th:only-of-type {\n",
       "        vertical-align: middle;\n",
       "    }\n",
       "\n",
       "    .dataframe tbody tr th {\n",
       "        vertical-align: top;\n",
       "    }\n",
       "\n",
       "    .dataframe thead th {\n",
       "        text-align: right;\n",
       "    }\n",
       "</style>\n",
       "<table border=\"1\" class=\"dataframe\">\n",
       "  <thead>\n",
       "    <tr style=\"text-align: right;\">\n",
       "      <th></th>\n",
       "      <th>NumRooms</th>\n",
       "      <th>Alley_ NA</th>\n",
       "      <th>Alley_ Pave</th>\n",
       "      <th>Alley_nan</th>\n",
       "    </tr>\n",
       "  </thead>\n",
       "  <tbody>\n",
       "    <tr>\n",
       "      <th>0</th>\n",
       "      <td>3.0</td>\n",
       "      <td>0</td>\n",
       "      <td>1</td>\n",
       "      <td>0</td>\n",
       "    </tr>\n",
       "    <tr>\n",
       "      <th>1</th>\n",
       "      <td>2.0</td>\n",
       "      <td>1</td>\n",
       "      <td>0</td>\n",
       "      <td>0</td>\n",
       "    </tr>\n",
       "    <tr>\n",
       "      <th>2</th>\n",
       "      <td>4.0</td>\n",
       "      <td>1</td>\n",
       "      <td>0</td>\n",
       "      <td>0</td>\n",
       "    </tr>\n",
       "    <tr>\n",
       "      <th>3</th>\n",
       "      <td>3.0</td>\n",
       "      <td>1</td>\n",
       "      <td>0</td>\n",
       "      <td>0</td>\n",
       "    </tr>\n",
       "  </tbody>\n",
       "</table>\n",
       "</div>"
      ],
      "text/plain": [
       "   NumRooms   Alley_ NA   Alley_ Pave   Alley_nan\n",
       "0       3.0           0             1           0\n",
       "1       2.0           1             0           0\n",
       "2       4.0           1             0           0\n",
       "3       3.0           1             0           0"
      ]
     },
     "execution_count": 66,
     "metadata": {},
     "output_type": "execute_result"
    }
   ],
   "source": [
    "inputs = pd.get_dummies(inputs, dummy_na=True, dtype=int)\n",
    "inputs"
   ]
  },
  {
   "cell_type": "markdown",
   "id": "e2e1dd2c-59ef-4123-b219-5e7e3c0d0934",
   "metadata": {},
   "source": [
    "全都转为数值类型后，转为张量格式："
   ]
  },
  {
   "cell_type": "code",
   "execution_count": 67,
   "id": "d96e6bfd-3b56-491b-8d5b-87db73d2db88",
   "metadata": {},
   "outputs": [
    {
     "data": {
      "text/plain": [
       "(tensor([[3., 0., 1., 0.],\n",
       "         [2., 1., 0., 0.],\n",
       "         [4., 1., 0., 0.],\n",
       "         [3., 1., 0., 0.]], dtype=torch.float64),\n",
       " tensor([127500, 106000, 178100, 140000]))"
      ]
     },
     "execution_count": 67,
     "metadata": {},
     "output_type": "execute_result"
    }
   ],
   "source": [
    "import torch\n",
    "X, y = torch.tensor(inputs.values), torch.tensor(outputs.values)\n",
    "X, y"
   ]
  },
  {
   "cell_type": "code",
   "execution_count": null,
   "id": "185cb88d-d658-4147-8b19-11395cc352cd",
   "metadata": {},
   "outputs": [],
   "source": []
  }
 ],
 "metadata": {
  "kernelspec": {
   "display_name": "pytorch221",
   "language": "python",
   "name": "pytorch221"
  },
  "language_info": {
   "codemirror_mode": {
    "name": "ipython",
    "version": 3
   },
   "file_extension": ".py",
   "mimetype": "text/x-python",
   "name": "python",
   "nbconvert_exporter": "python",
   "pygments_lexer": "ipython3",
   "version": "3.12.2"
  }
 },
 "nbformat": 4,
 "nbformat_minor": 5
}
